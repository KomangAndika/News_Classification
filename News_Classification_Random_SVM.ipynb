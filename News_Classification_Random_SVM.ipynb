{
 "cells": [
  {
   "cell_type": "markdown",
   "id": "6a69ee16",
   "metadata": {},
   "source": [
    "Komang Andika Wira Santosa - 2501994424"
   ]
  },
  {
   "cell_type": "markdown",
   "id": "dddda261",
   "metadata": {},
   "source": [
    "link video: https://www.youtube.com/watch?v=IwJXIlnOgC4"
   ]
  },
  {
   "cell_type": "code",
   "execution_count": 3,
   "id": "4d8cb52a",
   "metadata": {
    "execution": {
     "iopub.execute_input": "2023-11-10T17:28:49.146761Z",
     "iopub.status.busy": "2023-11-10T17:28:49.146395Z",
     "iopub.status.idle": "2023-11-10T17:28:49.745288Z",
     "shell.execute_reply": "2023-11-10T17:28:49.744111Z",
     "shell.execute_reply.started": "2023-11-10T17:28:49.146734Z"
    }
   },
   "outputs": [],
   "source": [
    "from newspaper import Article\n",
    "import pandas as pd\n",
    "import numpy as np"
   ]
  },
  {
   "cell_type": "markdown",
   "id": "e19463c6",
   "metadata": {},
   "source": [
    "## News Scraping"
   ]
  },
  {
   "cell_type": "code",
   "execution_count": 11,
   "id": "499c1aba",
   "metadata": {},
   "outputs": [],
   "source": [
    "# 20 Url Berita\n",
    "url = [\n",
    "    \"https://news.detik.com/pemilu/d-7017657/kpu-tetapkan-9-917-dct-caleg-dpr-ini-daftar-11-parpol-penuhi-kuota-580\",\n",
    "    \"https://www.cnnindonesia.com/olahraga/20231103233749-142-1019882/witan-dipuji-doll-habis-habisan-usai-cetak-2-gol-lawan-psm\",\n",
    "    \"https://www.cnbcindonesia.com/lifestyle/20231102213636-33-485998/mengintip-kost-sultan-dengan-vibe-ubud-sebulan-rp16-juta\",\n",
    "    \"https://news.detik.com/berita/d-6973716/butuh-hiburan-seru-bertabur-hadiah-yuk-ke-pekan-raya-pegadaian\",\n",
    "    \"https://www.cnnindonesia.com/nasional/20231102171625-32-1019286/jokowi-bicara-nasib-ikn-usai-lengser-ada-uu-nya-didukung-dpr\",\n",
    "    \"https://www.cnnindonesia.com/nasional/20231102182153-32-1019319/pdip-tak-ikut-campur-usulan-masinton-soal-hak-angket-dpr-terhadap-mk\",\n",
    "    \"https://www.cnbcindonesia.com/lifestyle/20230721134218-33-456188/ahli-ungkap-olahraga-ini-bikin-panjang-umur-awet-muda\",\n",
    "    \"https://www.cnbcindonesia.com/lifestyle/20230912131850-33-471745/5-kebiasaan-sehari-hari-ini-bisa-bikin-jantung-kamu-sehat-lho\",\n",
    "    \"https://www.cnnindonesia.com/olahraga/20231104154839-142-1020000/psis-lepas-hulk-ke-timnas-indonesia-tunjukkan-kamu-layak\",\n",
    "    \"https://www.cnnindonesia.com/hiburan/20231103204814-220-1019857/sinopsis-songbird-bioskop-trans-tv-4-november-2023\",\n",
    "    \"https://www.cnnindonesia.com/hiburan/20231103121256-220-1019541/5-rekomendasi-film-akhir-pekan-budi-pekerti-hingga-the-eras-tour\",\n",
    "    \"https://www.cnbcindonesia.com/news/20230926120220-4-475594/cawapres-ganjar-sudah-dipilih-mau-diumumkan-megawati-siapa\",\n",
    "    \"https://news.detik.com/berita/d-6298034/minie-sudjarwo-jadi-atlet-bodybuilding-akibat-body-shaming\",\n",
    "    \"https://www.cnbcindonesia.com/lifestyle/20210914124741-33-276118/hore-ancol-dan-dufan-dibuka-hari-ini-ini-syarat-masuknya\",\n",
    "    \"https://news.detik.com/pemilu/d-7018785/advokat-pengawal-konstitusi-mkmk-tak-berwenang-membatalkan-putusan-mk\",\n",
    "    \"https://news.detik.com/foto-news/d-6564392/salut-warga-berolahraga-saat-rintik-hujan-mengguyur-jakarta\",\n",
    "    \"https://www.cnnindonesia.com/olahraga/20231104134057-142-1019965/suarez-sepakat-gabung-inter-miami-mimpi-reuni-bareng-messi-terwujud\",\n",
    "    \"https://news.detik.com/pemilu/d-7017391/kpu-tetapkan-9-917-orang-masuk-daftar-calon-tetap-anggota-dpr-ri\",\n",
    "    \"https://www.cnbcindonesia.com/news/20230808150101-4-461139/sosok-yenny-wahid-siap-jadi-cawapres-dekat-dengan-anies\",\n",
    "    \"https://www.cnbcindonesia.com/lifestyle/20231103181835-33-486283/asik-bisa-borong-diskon-skincare-make-up-di-medan-x-beauty\"\n",
    "]\n",
    "\n",
    "label = [\n",
    "    \"politik\",\n",
    "    \"olahraga\",\n",
    "    \"hiburan\",\n",
    "    \"hiburan\",\n",
    "    \"politik\",\n",
    "    \"politik\",\n",
    "    \"olahraga\",\n",
    "    \"olahraga\",\n",
    "    \"olahraga\",\n",
    "    \"hiburan\",\n",
    "    \"hiburan\",\n",
    "    \"politik\",\n",
    "    \"olahraga\",\n",
    "    \"hiburan\",\n",
    "    \"politik\",\n",
    "    \"olahraga\",\n",
    "    \"olahraga\",\n",
    "    \"politik\",\n",
    "    \"politik\",\n",
    "    \"hiburan\"\n",
    "]\n",
    "\n",
    "detik = \"detik.com\"\n",
    "cnn = \"cnnindonesia.com\"\n",
    "cnbc = \"cnbcindonesia.com\"\n",
    "\n",
    "# Untuk menyimpan hasil scraping\n",
    "artikel_scrape = []\n",
    "\n",
    "for i,isi in enumerate(url):\n",
    "    artikel = Article(isi)\n",
    "    artikel.download()\n",
    "    artikel.parse()\n",
    "\n",
    "    if detik in isi:\n",
    "        Media = \"detikNews\"\n",
    "    elif cnn in isi:\n",
    "        Media = \"CNN Indonesia\"\n",
    "    elif cnbc in isi:\n",
    "        Media = \"CNBC Indonesia\"\n",
    "    \n",
    "    skrep = {\n",
    "        \"Judul\": artikel.title,\n",
    "        \"Text\": artikel.text,\n",
    "        \"Media\": Media,\n",
    "        \"Label\": label[i],\n",
    "    }\n",
    "    artikel_scrape.append(skrep)"
   ]
  },
  {
   "cell_type": "code",
   "execution_count": 12,
   "id": "b244a9e8",
   "metadata": {},
   "outputs": [
    {
     "data": {
      "text/html": [
       "<div>\n",
       "<style scoped>\n",
       "    .dataframe tbody tr th:only-of-type {\n",
       "        vertical-align: middle;\n",
       "    }\n",
       "\n",
       "    .dataframe tbody tr th {\n",
       "        vertical-align: top;\n",
       "    }\n",
       "\n",
       "    .dataframe thead th {\n",
       "        text-align: right;\n",
       "    }\n",
       "</style>\n",
       "<table border=\"1\" class=\"dataframe\">\n",
       "  <thead>\n",
       "    <tr style=\"text-align: right;\">\n",
       "      <th></th>\n",
       "      <th>Judul</th>\n",
       "      <th>Text</th>\n",
       "      <th>Media</th>\n",
       "      <th>Label</th>\n",
       "    </tr>\n",
       "  </thead>\n",
       "  <tbody>\n",
       "    <tr>\n",
       "      <th>0</th>\n",
       "      <td>KPU Tetapkan 9.917 DCT Caleg DPR, Ini Daftar 1...</td>\n",
       "      <td>Komisi Pemilihan Umum (KPU) menetapkan 9.917 o...</td>\n",
       "      <td>detikNews</td>\n",
       "      <td>politik</td>\n",
       "    </tr>\n",
       "    <tr>\n",
       "      <th>1</th>\n",
       "      <td>Witan Dipuji Doll Habis-habisan Usai Cetak 2 G...</td>\n",
       "      <td>--\\n\\nPelatih Persija Jakarta, Thomas Doll mem...</td>\n",
       "      <td>CNN Indonesia</td>\n",
       "      <td>olahraga</td>\n",
       "    </tr>\n",
       "    <tr>\n",
       "      <th>2</th>\n",
       "      <td>Mengintip Kost 'Sultan' dengan Vibe Ubud, Sebu...</td>\n",
       "      <td>Jakarta, CNBC Indonesia - Tempat tinggal adala...</td>\n",
       "      <td>CNBC Indonesia</td>\n",
       "      <td>hiburan</td>\n",
       "    </tr>\n",
       "    <tr>\n",
       "      <th>3</th>\n",
       "      <td>Butuh Hiburan Seru Bertabur Hadiah? Yuk ke Pek...</td>\n",
       "      <td>PT Pegadaian menggelar kegiatan Pekan Raya Peg...</td>\n",
       "      <td>detikNews</td>\n",
       "      <td>hiburan</td>\n",
       "    </tr>\n",
       "    <tr>\n",
       "      <th>4</th>\n",
       "      <td>Jokowi Bicara Nasib IKN Usai Lengser: Ada UU-n...</td>\n",
       "      <td>--\\n\\nPresiden Joko Widodo (Jokowi) berbicara ...</td>\n",
       "      <td>CNN Indonesia</td>\n",
       "      <td>politik</td>\n",
       "    </tr>\n",
       "  </tbody>\n",
       "</table>\n",
       "</div>"
      ],
      "text/plain": [
       "                                               Judul  \\\n",
       "0  KPU Tetapkan 9.917 DCT Caleg DPR, Ini Daftar 1...   \n",
       "1  Witan Dipuji Doll Habis-habisan Usai Cetak 2 G...   \n",
       "2  Mengintip Kost 'Sultan' dengan Vibe Ubud, Sebu...   \n",
       "3  Butuh Hiburan Seru Bertabur Hadiah? Yuk ke Pek...   \n",
       "4  Jokowi Bicara Nasib IKN Usai Lengser: Ada UU-n...   \n",
       "\n",
       "                                                Text           Media     Label  \n",
       "0  Komisi Pemilihan Umum (KPU) menetapkan 9.917 o...       detikNews   politik  \n",
       "1  --\\n\\nPelatih Persija Jakarta, Thomas Doll mem...   CNN Indonesia  olahraga  \n",
       "2  Jakarta, CNBC Indonesia - Tempat tinggal adala...  CNBC Indonesia   hiburan  \n",
       "3  PT Pegadaian menggelar kegiatan Pekan Raya Peg...       detikNews   hiburan  \n",
       "4  --\\n\\nPresiden Joko Widodo (Jokowi) berbicara ...   CNN Indonesia   politik  "
      ]
     },
     "execution_count": 12,
     "metadata": {},
     "output_type": "execute_result"
    }
   ],
   "source": [
    "df = pd.DataFrame(artikel_scrape)\n",
    "df.head()"
   ]
  },
  {
   "cell_type": "code",
   "execution_count": 13,
   "id": "60486b54",
   "metadata": {},
   "outputs": [],
   "source": [
    "df.to_csv('news_scrape.csv', index=False)"
   ]
  },
  {
   "cell_type": "code",
   "execution_count": 3,
   "id": "5b416511",
   "metadata": {
    "execution": {
     "iopub.execute_input": "2023-11-10T22:48:36.525489Z",
     "iopub.status.busy": "2023-11-10T22:48:36.525112Z",
     "iopub.status.idle": "2023-11-10T22:48:36.541987Z",
     "shell.execute_reply": "2023-11-10T22:48:36.541154Z",
     "shell.execute_reply.started": "2023-11-10T22:48:36.525461Z"
    }
   },
   "outputs": [],
   "source": [
    "df = pd.read_csv('news_scrape.csv')"
   ]
  },
  {
   "cell_type": "markdown",
   "id": "409cdfa1",
   "metadata": {},
   "source": [
    "## Data Exploration"
   ]
  },
  {
   "cell_type": "code",
   "execution_count": 4,
   "id": "98c23d98",
   "metadata": {
    "execution": {
     "iopub.execute_input": "2023-11-10T17:36:52.342377Z",
     "iopub.status.busy": "2023-11-10T17:36:52.342025Z",
     "iopub.status.idle": "2023-11-10T17:36:52.798710Z",
     "shell.execute_reply": "2023-11-10T17:36:52.797774Z",
     "shell.execute_reply.started": "2023-11-10T17:36:52.342350Z"
    }
   },
   "outputs": [],
   "source": [
    "import seaborn as sns\n",
    "import matplotlib.pyplot as plt"
   ]
  },
  {
   "cell_type": "code",
   "execution_count": 5,
   "id": "ee52aa37",
   "metadata": {
    "execution": {
     "iopub.execute_input": "2023-11-10T18:11:31.148556Z",
     "iopub.status.busy": "2023-11-10T18:11:31.148226Z",
     "iopub.status.idle": "2023-11-10T18:11:31.348254Z",
     "shell.execute_reply": "2023-11-10T18:11:31.347545Z",
     "shell.execute_reply.started": "2023-11-10T18:11:31.148533Z"
    }
   },
   "outputs": [
    {
     "data": {
      "text/plain": [
       "<AxesSubplot:ylabel='Label'>"
      ]
     },
     "execution_count": 5,
     "metadata": {},
     "output_type": "execute_result"
    },
    {
     "data": {
      "image/png": "[encoded data removed]",
      "text/plain": [
       "<Figure size 432x288 with 1 Axes>"
      ]
     },
     "metadata": {},
     "output_type": "display_data"
    }
   ],
   "source": [
    "df['Label'].value_counts().plot(kind='pie', autopct='%1.0f%%')"
   ]
  },
  {
   "cell_type": "code",
   "execution_count": 6,
   "id": "b9e00e24",
   "metadata": {
    "execution": {
     "iopub.execute_input": "2023-11-10T18:11:34.081254Z",
     "iopub.status.busy": "2023-11-10T18:11:34.080870Z",
     "iopub.status.idle": "2023-11-10T18:11:34.204837Z",
     "shell.execute_reply": "2023-11-10T18:11:34.203529Z",
     "shell.execute_reply.started": "2023-11-10T18:11:34.081225Z"
    }
   },
   "outputs": [
    {
     "data": {
      "text/plain": [
       "<AxesSubplot:ylabel='Media'>"
      ]
     },
     "execution_count": 6,
     "metadata": {},
     "output_type": "execute_result"
    },
    {
     "data": {
      "image/png": "[encoded data removed]",
      "text/plain": [
       "<Figure size 432x288 with 1 Axes>"
      ]
     },
     "metadata": {},
     "output_type": "display_data"
    }
   ],
   "source": [
    "df['Media'].value_counts().plot(kind='pie', autopct='%1.0f%%')"
   ]
  },
  {
   "cell_type": "code",
   "execution_count": 7,
   "id": "aca893ff",
   "metadata": {
    "execution": {
     "iopub.execute_input": "2023-11-10T18:11:38.030986Z",
     "iopub.status.busy": "2023-11-10T18:11:38.030641Z",
     "iopub.status.idle": "2023-11-10T18:11:38.037548Z",
     "shell.execute_reply": "2023-11-10T18:11:38.036265Z",
     "shell.execute_reply.started": "2023-11-10T18:11:38.030958Z"
    }
   },
   "outputs": [
    {
     "data": {
      "text/plain": [
       "'Komisi Pemilihan Umum (KPU) menetapkan 9.917 orang masuk ke daftar calon tetap (DCT) caleg DPR RI. Sebanyak 11 partai politik memenuhi kuota 580 caleg di 84 daerah pemilihan (dapil).\\n\\n\"Kita tetapkan DCT hari ini, jumlahnya 9.917 ini meliputi 18 parpol peserta pemilu dan tersebar di 84 dapil,\" kata Ketua KPU Hasyim Asy\\'ari dalam konferensi pers di kantor KPU, Menteng, Jakarta Pusat, Jumat (3/11/2023).\\n\\nDari data KPU tercatat ada 11 partai yang memenuhi kuota 580 kursi di 84 dapil. Di antaranya, PKB, Partai Gerindra, PDIP, Partai Golkar, Partai NasDem, Partai Buruh, PKS, PAN, Partai Demokrat, PSI, PPP.\\n\\nADVERTISEMENT SCROLL TO CONTINUE WITH CONTENT\\n\\nBerikut ini daftarnya:\\n\\n1. PKB (580 caleg)\\n\\n2. Partai Gerindra (580 caleg)\\n\\n3. PDIP (580 caleg)\\n\\n4. Partai Golkar (580 caleg)\\n\\n5. Partai NasDem (580 caleg)\\n\\n6. Partai Buruh (580 caleg)\\n\\n7. Partai Gelora (396 caleg)\\n\\n8. PKS (580 caleg)\\n\\n9. PKN (525 caleg)\\n\\n10. Partai Hanura (485 caleg)\\n\\n11. Partai Garda Republik Indonesia (570 caleg)\\n\\n12. Partai Amanat Nasional (580 caleg)\\n\\n13. PBB (470 caleg)\\n\\n14. Partai Demokrat (580 caleg)\\n\\n15. PSI (580 caleg)\\n\\n16. Perindo (579 caleg)\\n\\n17. PPP (580 caleg)\\n\\n18. Partai Ummat (512 caleg)\\n\\nHasyim menjelaskan mulanya bacaleg yang masuk ke dalam DCS ialah 9.919 orang. Namun, setelah adanya tanggapan dan masukan masyarakat berubah menjadi 9.918.\\n\\n\"Lalu setelah diumumkan ada tanggapan masyarakat dan kemudian yang diajukan untuk masuk DCT dari 18 paprol, 9.918,\" jelasnya.\\n\\nDari 9.918 orang, dilakukan verifikasi kembali. Maka, total keseluruhan DCT ialah 9.917.'"
      ]
     },
     "execution_count": 7,
     "metadata": {},
     "output_type": "execute_result"
    }
   ],
   "source": [
    "df['Text'][0]"
   ]
  },
  {
   "cell_type": "code",
   "execution_count": 8,
   "id": "3d3a6c47",
   "metadata": {
    "execution": {
     "iopub.execute_input": "2023-11-10T18:11:43.114028Z",
     "iopub.status.busy": "2023-11-10T18:11:43.113703Z",
     "iopub.status.idle": "2023-11-10T18:11:43.122689Z",
     "shell.execute_reply": "2023-11-10T18:11:43.120863Z",
     "shell.execute_reply.started": "2023-11-10T18:11:43.114005Z"
    }
   },
   "outputs": [
    {
     "data": {
      "text/plain": [
       "'--\\n\\nPelatih Persija Jakarta, Thomas Doll memuji Witan Sulaeman yang bermain sangat agresif melawan PSM Makassar dengan mencetak dua gol hingga membawa kemenangan tim Macan Kemayoran 3-2 di Stadion Gelora BJ Habibie Parepare, Jumat (3/11) malam.\\n\\n\"Witan bermain sangat baik. Saya bangga sama dia,\" kata Doll usai pertandingan, Jumat (3/11).\\n\\nMenurut Doll, pemainnya bermain sangat impresif sejak babak pertama dan berhasil unggul 1-0 yang bertahan hingga turun minum.\\n\\nADVERTISEMENT SCROLL TO CONTINUE WITH CONTENT\\n\\n\"Kami bermain bagus di babak pertama karena menghadirkan beberapa peluang dan pemain saya mencetak dua gol,\" ujar Doll.\\n\\nDoll juga senang pemain tim Macan Kemayoran bermain lebih santai meski sebelum menjalani laga melawan PSM pemainnya mengalami kelelahan usai bertandang ke markas PSIS Semarang.\\n\\n\"Saya senang melihat pemain mereka bermain rileks dan tenang walau pun bermain tandang. Dalam kondisi kelelahan,\" kata Doll.\\n\\n\\n\\nBermain di kandang PSM, kata Dolls, tidak menurunkan semangat pemainnya untuk meraih tiga poin di laga tandangnya.\\n\\n\"Mental pemain kami bagus dan layak untuk memenangkan pertandingan ini. Walaupun pemain capek mereka bermain sangat baik, saya sangat bangga,\" kata Doll.\\n\\n[Gambas:Video CNN]\\n\\n\\n\\n\\n\\n'"
      ]
     },
     "execution_count": 8,
     "metadata": {},
     "output_type": "execute_result"
    }
   ],
   "source": [
    "df['Text'][1]"
   ]
  },
  {
   "cell_type": "code",
   "execution_count": 9,
   "id": "5fbcdf34",
   "metadata": {
    "execution": {
     "iopub.execute_input": "2023-11-10T18:11:49.273116Z",
     "iopub.status.busy": "2023-11-10T18:11:49.272766Z",
     "iopub.status.idle": "2023-11-10T18:11:49.280498Z",
     "shell.execute_reply": "2023-11-10T18:11:49.279102Z",
     "shell.execute_reply.started": "2023-11-10T18:11:49.273088Z"
    }
   },
   "outputs": [
    {
     "data": {
      "text/plain": [
       "'Jakarta, CNBC Indonesia - Tempat tinggal adalah kebutuhan dasar manusia yang harus terpenuhi. Selain rumah, ada beberapa pilihan yang bisa dijadikan tempat tinggal, seperti apartemen hingga kos.\\n\\nBila ditelusuri, ada banyak kos-kosan mewah untuk \\'kaum sultan\\' dengan fasilitas menyerupai hotel di DKI Jakarta. Tak tanggung-tanggung, harga sewa kamarnya bahkan ada yang mencapai Rp200 jutaan.\\n\\nKali ini, CNBC Indonesia mengunjungi salah satu kos mewah di kawasan Karet Kuningan, Jakarta Selatan, yakni Miers Kuningan, yang dikurasi oleh jaringan hotel ARTOTEL. Sebelumnya, kos yang masih menyediakan jasa sewa kamar mingguan dan bulanan ini bernama Suites at Seven.\\n\\nADVERTISEMENT SCROLL TO RESUME CONTENT\\n\\nBerdasarkan pengamatan, kost yang beralamat di Gang H. Sidik, Jl. H. Sidik No.7, Karet Kuningan, Setiabudi, Jakarta Selatan ini berada di lingkungan yang cukup tenang. Jika dilihat dari luar, kos-kosan yang dijaga ketat oleh satpam selama 24 jam ini tampak megah dan bersih.\\n\\nMemasuki pintu utama, kami disambut oleh ruang tunggu (lobby) yang bersih, luas, dan megah. Di sisi kanan lobby, terdapat pancuran dinding yang membawa kesan asri kos-kosan. Selain itu, elemen kayu yang banyak digunakan di dalam bangunan juga menambah kesan sejuk bagi para penghuninya.\\n\\nFoto: Kost ‘sultan’ Miers atau Suites @ Seven di Jakarta. (CNBC Indonesia/Rindi Salsabilla)\\n\\n\\n\\nFoto: Kost ‘sultan’ Miers atau Suites @ Seven di Jakarta. (CNBC Indonesia/Rindi Salsabilla)\\n\\nFoto: Kost ‘sultan’ Miers Kuningan. (CNBC Indonesia/Rindi Salsabila) Foto: Kost ‘sultan’ Miers Kuningan. (CNBC Indonesia/Rindi Salsabila)\\n\\nKos-kosan yang berjarak sangat dekat dengan Ciputra World, ITC Kuningan, Mal Ambassador, dan kawasan perkantoran Kuningan ini menawarkan fasilitas umum yang mewah, yakni lift, area tempat berkumpul, rooftop dengan pemandangan gedung-gedung kawasan Kuningan, hingga restoran.\\n\\nKami pun berkesempatan untuk mengunjungi kamar tipe Studio 23 yang dibanderol seharga Rp16,2 juta per bulan, Kamis (2/11/2023).\\n\\nKamar tipe Studio 23 seluas 23 meter persegi ini dilengkapi fasilitas akses pintu kamar dengan kartu, AC, tempat tidur queen size, lemari, kamar mandi dalam dengan pemanas air, mini bar, kulkas mini, sofa kecil, safety box, pengering rambut, TV kabel, dan jendela pemandangan taman.\\n\\n\"Biaya sewa kamar sudah termasuk sarapan a la carte, laundry 5 pakaian, dan jasa pembersihan kamar setiap hari,\" ujar petugas kos kepada CNBC Indonesia, Kamis (2/11/2023).\\n\\nYang istimewa, begitu membuka jendela, Anda akan disuguhkan dengan pemandangan kolam dengan gemiricik air yang lembut. Sekilas membawa kesan Ubud yang menenangkan.\\n\\nFoto: Kost ‘sultan’ Miers Kuningan. (CNBC Indonesia/Rindi Salsabila) Foto: Kost ‘sultan’ Miers Kuningan. (CNBC Indonesia/Rindi Salsabila)\\n\\nFoto: Kost ‘sultan’ Miers Kuningan. (CNBC Indonesia/Rindi Salsabila) Foto: Kost ‘sultan’ Miers Kuningan. (CNBC Indonesia/Rindi Salsabila)\\n\\nFoto: Kost ‘sultan’ Miers Kuningan/Suites @ Seven di Jakarta. (CNBC Indonesia/Rindi Salsabilla) Foto: Kost ‘sultan’ Miers Kuningan/Suites @ Seven di Jakarta. (CNBC Indonesia/Rindi Salsabilla)\\n\\nTamu juga dapat menyewa kamar ini untuk masa menginap 14 hari. Adapun, biaya yang dibanderol untuk 14 hari penginapan adalah Rp7,98 jura.\\n\\nSelain tipe kamar Studio 23, ada satu tipe kamar lainnya yang ditawarkan Miers Kuningan, yakni Studio 28.\\n\\nTipe kamar Studio 28 ini memiliki luas 28 meter persegi dengan fasilitas akses pintu kamar dengan kartu, AC, tempat tidur queen size, lemari, kamar mandi dalam dengan pemanas air, mini bar, kulkas dua pintu, sofa besar, safety box, pengering rambut, TV kabel, dan jendela pemandangan kota.\\n\\nBila ingin menyewa tipe kamar Studio 28, Anda harus rela merogoh kocek sebesar Rp18,9 juta per bulannya. Namun, Anda cukup mengeluarkan biaya sebesar Rp9,3 juta jika hanya ingin tinggal selama 14 hari.\\n\\nKost ini juga menyediakan fasilitas bersama berupa gym dan ruang meeting.\\n\\nBerikut rincian biaya sewa kamar kos di Miers Kuningan.\\n\\nFoto: Kost ‘sultan’ Miers Kuningan/Suites @ Seven di Jakarta. (CNBC Indonesia/Rindi Salsabilla) Foto: Kost ‘sultan’ Miers Kuningan/Suites @ Seven di Jakarta. (CNBC Indonesia/Rindi Salsabilla)\\n\\nFoto: Kost ‘sultan’ Suites Miers Kuningan/ Suites @ Seven di Jakarta. (CNBC Indonesia/Rindi Salsabilla) Foto: Kost ‘sultan’ Suites Miers Kuningan/ Suites @ Seven di Jakarta. (CNBC Indonesia/Rindi Salsabilla)\\n\\nTipe Kamar Studio 23\\n\\nBiaya sewa per 14 hari: Rp7,98 juta\\n\\nBiaya sewa kamar perbulan: Rp16,2 juta\\n\\nTipe Kamar Studio 28\\n\\nBiaya sewa per 14 hari: Rp9,3 juta\\n\\nBiaya sewa kamar perbulan: Rp18,9 juta'"
      ]
     },
     "execution_count": 9,
     "metadata": {},
     "output_type": "execute_result"
    }
   ],
   "source": [
    "df['Text'][2]"
   ]
  },
  {
   "cell_type": "markdown",
   "id": "5de454d7",
   "metadata": {},
   "source": [
    "## Data Cleaning"
   ]
  },
  {
   "cell_type": "code",
   "execution_count": 10,
   "id": "24641136",
   "metadata": {
    "execution": {
     "iopub.execute_input": "2023-11-10T22:48:43.301300Z",
     "iopub.status.busy": "2023-11-10T22:48:43.300966Z",
     "iopub.status.idle": "2023-11-10T22:48:43.309349Z",
     "shell.execute_reply": "2023-11-10T22:48:43.307950Z",
     "shell.execute_reply.started": "2023-11-10T22:48:43.301276Z"
    }
   },
   "outputs": [],
   "source": [
    "import re\n",
    "def cleansing(df):\n",
    "    df_clean=df.str.lower()\n",
    "    df_clean=[re.sub(r\"\\d+\",\"\",i )for i in df_clean]\n",
    "    df_clean = [re.sub(r'advertisement scroll to resume content', '', i) for i in df_clean]\n",
    "    df_clean = [re.sub(r'advertisement scroll to continue with content', '', i) for i in df_clean]\n",
    "    df_clean = [re.sub(r'cnn', '', i) for i in df_clean]\n",
    "    df_clean = [re.sub(r'cnbc', '', i) for i in df_clean]\n",
    "    df_clean=[re.sub(r'[^\\w]', ' ', i)for i in df_clean]\n",
    "    df_clean=[re.sub(r'\\s+',' ',i)for i in df_clean]\n",
    "    return df_clean"
   ]
  },
  {
   "cell_type": "code",
   "execution_count": 11,
   "id": "ef8a3551",
   "metadata": {
    "execution": {
     "iopub.execute_input": "2023-11-10T22:48:45.735357Z",
     "iopub.status.busy": "2023-11-10T22:48:45.734976Z",
     "iopub.status.idle": "2023-11-10T22:48:45.747682Z",
     "shell.execute_reply": "2023-11-10T22:48:45.746460Z",
     "shell.execute_reply.started": "2023-11-10T22:48:45.735326Z"
    }
   },
   "outputs": [],
   "source": [
    "clean_text=cleansing(df['Text'])"
   ]
  },
  {
   "cell_type": "code",
   "execution_count": 12,
   "id": "3a26d318",
   "metadata": {
    "execution": {
     "iopub.execute_input": "2023-11-10T22:48:51.088802Z",
     "iopub.status.busy": "2023-11-10T22:48:51.088444Z",
     "iopub.status.idle": "2023-11-10T22:48:51.096382Z",
     "shell.execute_reply": "2023-11-10T22:48:51.095133Z",
     "shell.execute_reply.started": "2023-11-10T22:48:51.088775Z"
    }
   },
   "outputs": [
    {
     "data": {
      "text/plain": [
       "['komisi pemilihan umum kpu menetapkan orang masuk ke daftar calon tetap dct caleg dpr ri sebanyak partai politik memenuhi kuota caleg di daerah pemilihan dapil kita tetapkan dct hari ini jumlahnya ini meliputi parpol peserta pemilu dan tersebar di dapil kata ketua kpu hasyim asy ari dalam konferensi pers di kantor kpu menteng jakarta pusat jumat dari data kpu tercatat ada partai yang memenuhi kuota kursi di dapil di antaranya pkb partai gerindra pdip partai golkar partai nasdem partai buruh pks pan partai demokrat psi ppp advertisement scroll to continue with content berikut ini daftarnya pkb caleg partai gerindra caleg pdip caleg partai golkar caleg partai nasdem caleg partai buruh caleg partai gelora caleg pks caleg pkn caleg partai hanura caleg partai garda republik indonesia caleg partai amanat nasional caleg pbb caleg partai demokrat caleg psi caleg perindo caleg ppp caleg partai ummat caleg hasyim menjelaskan mulanya bacaleg yang masuk ke dalam dcs ialah orang namun setelah adanya tanggapan dan masukan masyarakat berubah menjadi lalu setelah diumumkan ada tanggapan masyarakat dan kemudian yang diajukan untuk masuk dct dari paprol jelasnya dari orang dilakukan verifikasi kembali maka total keseluruhan dct ialah ',\n",
       " ' pelatih persija jakarta thomas doll memuji witan sulaeman yang bermain sangat agresif melawan psm makassar dengan mencetak dua gol hingga membawa kemenangan tim macan kemayoran di stadion gelora bj habibie parepare jumat malam witan bermain sangat baik saya bangga sama dia kata doll usai pertandingan jumat menurut doll pemainnya bermain sangat impresif sejak babak pertama dan berhasil unggul yang bertahan hingga turun minum advertisement scroll to continue with content kami bermain bagus di babak pertama karena menghadirkan beberapa peluang dan pemain saya mencetak dua gol ujar doll doll juga senang pemain tim macan kemayoran bermain lebih santai meski sebelum menjalani laga melawan psm pemainnya mengalami kelelahan usai bertandang ke markas psis semarang saya senang melihat pemain mereka bermain rileks dan tenang walau pun bermain tandang dalam kondisi kelelahan kata doll bermain di kandang psm kata dolls tidak menurunkan semangat pemainnya untuk meraih tiga poin di laga tandangnya mental pemain kami bagus dan layak untuk memenangkan pertandingan ini walaupun pemain capek mereka bermain sangat baik saya sangat bangga kata doll gambas video ',\n",
       " 'jakarta indonesia tempat tinggal adalah kebutuhan dasar manusia yang harus terpenuhi selain rumah ada beberapa pilihan yang bisa dijadikan tempat tinggal seperti apartemen hingga kos bila ditelusuri ada banyak kos kosan mewah untuk kaum sultan dengan fasilitas menyerupai hotel di dki jakarta tak tanggung tanggung harga sewa kamarnya bahkan ada yang mencapai rp jutaan kali ini indonesia mengunjungi salah satu kos mewah di kawasan karet kuningan jakarta selatan yakni miers kuningan yang dikurasi oleh jaringan hotel artotel sebelumnya kos yang masih menyediakan jasa sewa kamar mingguan dan bulanan ini bernama suites at seven berdasarkan pengamatan kost yang beralamat di gang h sidik jl h sidik no karet kuningan setiabudi jakarta selatan ini berada di lingkungan yang cukup tenang jika dilihat dari luar kos kosan yang dijaga ketat oleh satpam selama jam ini tampak megah dan bersih memasuki pintu utama kami disambut oleh ruang tunggu lobby yang bersih luas dan megah di sisi kanan lobby terdapat pancuran dinding yang membawa kesan asri kos kosan selain itu elemen kayu yang banyak digunakan di dalam bangunan juga menambah kesan sejuk bagi para penghuninya foto kost sultan miers atau suites seven di jakarta indonesia rindi salsabilla foto kost sultan miers atau suites seven di jakarta indonesia rindi salsabilla foto kost sultan miers kuningan indonesia rindi salsabila foto kost sultan miers kuningan indonesia rindi salsabila kos kosan yang berjarak sangat dekat dengan ciputra world itc kuningan mal ambassador dan kawasan perkantoran kuningan ini menawarkan fasilitas umum yang mewah yakni lift area tempat berkumpul rooftop dengan pemandangan gedung gedung kawasan kuningan hingga restoran kami pun berkesempatan untuk mengunjungi kamar tipe studio yang dibanderol seharga rp juta per bulan kamis kamar tipe studio seluas meter persegi ini dilengkapi fasilitas akses pintu kamar dengan kartu ac tempat tidur queen size lemari kamar mandi dalam dengan pemanas air mini bar kulkas mini sofa kecil safety box pengering rambut tv kabel dan jendela pemandangan taman biaya sewa kamar sudah termasuk sarapan a la carte laundry pakaian dan jasa pembersihan kamar setiap hari ujar petugas kos kepada indonesia kamis yang istimewa begitu membuka jendela anda akan disuguhkan dengan pemandangan kolam dengan gemiricik air yang lembut sekilas membawa kesan ubud yang menenangkan foto kost sultan miers kuningan indonesia rindi salsabila foto kost sultan miers kuningan indonesia rindi salsabila foto kost sultan miers kuningan indonesia rindi salsabila foto kost sultan miers kuningan indonesia rindi salsabila foto kost sultan miers kuningan suites seven di jakarta indonesia rindi salsabilla foto kost sultan miers kuningan suites seven di jakarta indonesia rindi salsabilla tamu juga dapat menyewa kamar ini untuk masa menginap hari adapun biaya yang dibanderol untuk hari penginapan adalah rp jura selain tipe kamar studio ada satu tipe kamar lainnya yang ditawarkan miers kuningan yakni studio tipe kamar studio ini memiliki luas meter persegi dengan fasilitas akses pintu kamar dengan kartu ac tempat tidur queen size lemari kamar mandi dalam dengan pemanas air mini bar kulkas dua pintu sofa besar safety box pengering rambut tv kabel dan jendela pemandangan kota bila ingin menyewa tipe kamar studio anda harus rela merogoh kocek sebesar rp juta per bulannya namun anda cukup mengeluarkan biaya sebesar rp juta jika hanya ingin tinggal selama hari kost ini juga menyediakan fasilitas bersama berupa gym dan ruang meeting berikut rincian biaya sewa kamar kos di miers kuningan foto kost sultan miers kuningan suites seven di jakarta indonesia rindi salsabilla foto kost sultan miers kuningan suites seven di jakarta indonesia rindi salsabilla foto kost sultan suites miers kuningan suites seven di jakarta indonesia rindi salsabilla foto kost sultan suites miers kuningan suites seven di jakarta indonesia rindi salsabilla tipe kamar studio biaya sewa per hari rp juta biaya sewa kamar perbulan rp juta tipe kamar studio biaya sewa per hari rp juta biaya sewa kamar perbulan rp juta']"
      ]
     },
     "execution_count": 12,
     "metadata": {},
     "output_type": "execute_result"
    }
   ],
   "source": [
    "clean_text[:3]"
   ]
  },
  {
   "cell_type": "code",
   "execution_count": 13,
   "id": "5d3edd4e",
   "metadata": {
    "execution": {
     "iopub.execute_input": "2023-11-10T22:48:55.788889Z",
     "iopub.status.busy": "2023-11-10T22:48:55.788542Z",
     "iopub.status.idle": "2023-11-10T22:48:55.801027Z",
     "shell.execute_reply": "2023-11-10T22:48:55.799790Z",
     "shell.execute_reply.started": "2023-11-10T22:48:55.788847Z"
    }
   },
   "outputs": [
    {
     "data": {
      "text/html": [
       "<div>\n",
       "<style scoped>\n",
       "    .dataframe tbody tr th:only-of-type {\n",
       "        vertical-align: middle;\n",
       "    }\n",
       "\n",
       "    .dataframe tbody tr th {\n",
       "        vertical-align: top;\n",
       "    }\n",
       "\n",
       "    .dataframe thead th {\n",
       "        text-align: right;\n",
       "    }\n",
       "</style>\n",
       "<table border=\"1\" class=\"dataframe\">\n",
       "  <thead>\n",
       "    <tr style=\"text-align: right;\">\n",
       "      <th></th>\n",
       "      <th>Judul</th>\n",
       "      <th>Text</th>\n",
       "      <th>Media</th>\n",
       "      <th>Label</th>\n",
       "    </tr>\n",
       "  </thead>\n",
       "  <tbody>\n",
       "    <tr>\n",
       "      <th>0</th>\n",
       "      <td>KPU Tetapkan 9.917 DCT Caleg DPR, Ini Daftar 1...</td>\n",
       "      <td>komisi pemilihan umum kpu menetapkan orang mas...</td>\n",
       "      <td>detikNews</td>\n",
       "      <td>politik</td>\n",
       "    </tr>\n",
       "    <tr>\n",
       "      <th>1</th>\n",
       "      <td>Witan Dipuji Doll Habis-habisan Usai Cetak 2 G...</td>\n",
       "      <td>pelatih persija jakarta thomas doll memuji wi...</td>\n",
       "      <td>CNN Indonesia</td>\n",
       "      <td>olahraga</td>\n",
       "    </tr>\n",
       "    <tr>\n",
       "      <th>2</th>\n",
       "      <td>Mengintip Kost 'Sultan' dengan Vibe Ubud, Sebu...</td>\n",
       "      <td>jakarta indonesia tempat tinggal adalah kebutu...</td>\n",
       "      <td>CNBC Indonesia</td>\n",
       "      <td>hiburan</td>\n",
       "    </tr>\n",
       "    <tr>\n",
       "      <th>3</th>\n",
       "      <td>Butuh Hiburan Seru Bertabur Hadiah? Yuk ke Pek...</td>\n",
       "      <td>pt pegadaian menggelar kegiatan pekan raya peg...</td>\n",
       "      <td>detikNews</td>\n",
       "      <td>hiburan</td>\n",
       "    </tr>\n",
       "    <tr>\n",
       "      <th>4</th>\n",
       "      <td>Jokowi Bicara Nasib IKN Usai Lengser: Ada UU-n...</td>\n",
       "      <td>presiden joko widodo jokowi berbicara tentang...</td>\n",
       "      <td>CNN Indonesia</td>\n",
       "      <td>politik</td>\n",
       "    </tr>\n",
       "  </tbody>\n",
       "</table>\n",
       "</div>"
      ],
      "text/plain": [
       "                                               Judul  \\\n",
       "0  KPU Tetapkan 9.917 DCT Caleg DPR, Ini Daftar 1...   \n",
       "1  Witan Dipuji Doll Habis-habisan Usai Cetak 2 G...   \n",
       "2  Mengintip Kost 'Sultan' dengan Vibe Ubud, Sebu...   \n",
       "3  Butuh Hiburan Seru Bertabur Hadiah? Yuk ke Pek...   \n",
       "4  Jokowi Bicara Nasib IKN Usai Lengser: Ada UU-n...   \n",
       "\n",
       "                                                Text           Media     Label  \n",
       "0  komisi pemilihan umum kpu menetapkan orang mas...       detikNews   politik  \n",
       "1   pelatih persija jakarta thomas doll memuji wi...   CNN Indonesia  olahraga  \n",
       "2  jakarta indonesia tempat tinggal adalah kebutu...  CNBC Indonesia   hiburan  \n",
       "3  pt pegadaian menggelar kegiatan pekan raya peg...       detikNews   hiburan  \n",
       "4   presiden joko widodo jokowi berbicara tentang...   CNN Indonesia   politik  "
      ]
     },
     "execution_count": 13,
     "metadata": {},
     "output_type": "execute_result"
    }
   ],
   "source": [
    "df['Text'] = clean_text\n",
    "df.head(5)"
   ]
  },
  {
   "cell_type": "markdown",
   "id": "1229d20e",
   "metadata": {},
   "source": [
    "## Tokenization"
   ]
  },
  {
   "cell_type": "code",
   "execution_count": 14,
   "id": "272fddc1",
   "metadata": {
    "execution": {
     "iopub.execute_input": "2023-11-10T22:49:02.882111Z",
     "iopub.status.busy": "2023-11-10T22:49:02.881705Z",
     "iopub.status.idle": "2023-11-10T22:49:02.918468Z",
     "shell.execute_reply": "2023-11-10T22:49:02.917134Z",
     "shell.execute_reply.started": "2023-11-10T22:49:02.882080Z"
    }
   },
   "outputs": [],
   "source": [
    "from nltk.tokenize import word_tokenize\n",
    "df['tokens'] = df['Text'].apply(lambda x: word_tokenize(x))"
   ]
  },
  {
   "cell_type": "code",
   "execution_count": 15,
   "id": "ffea524b",
   "metadata": {
    "execution": {
     "iopub.execute_input": "2023-11-10T22:49:06.657735Z",
     "iopub.status.busy": "2023-11-10T22:49:06.657385Z",
     "iopub.status.idle": "2023-11-10T22:49:06.679630Z",
     "shell.execute_reply": "2023-11-10T22:49:06.677961Z",
     "shell.execute_reply.started": "2023-11-10T22:49:06.657708Z"
    }
   },
   "outputs": [
    {
     "data": {
      "text/html": [
       "<div>\n",
       "<style scoped>\n",
       "    .dataframe tbody tr th:only-of-type {\n",
       "        vertical-align: middle;\n",
       "    }\n",
       "\n",
       "    .dataframe tbody tr th {\n",
       "        vertical-align: top;\n",
       "    }\n",
       "\n",
       "    .dataframe thead th {\n",
       "        text-align: right;\n",
       "    }\n",
       "</style>\n",
       "<table border=\"1\" class=\"dataframe\">\n",
       "  <thead>\n",
       "    <tr style=\"text-align: right;\">\n",
       "      <th></th>\n",
       "      <th>Judul</th>\n",
       "      <th>Text</th>\n",
       "      <th>Media</th>\n",
       "      <th>Label</th>\n",
       "      <th>tokens</th>\n",
       "    </tr>\n",
       "  </thead>\n",
       "  <tbody>\n",
       "    <tr>\n",
       "      <th>0</th>\n",
       "      <td>KPU Tetapkan 9.917 DCT Caleg DPR, Ini Daftar 1...</td>\n",
       "      <td>komisi pemilihan umum kpu menetapkan orang mas...</td>\n",
       "      <td>detikNews</td>\n",
       "      <td>politik</td>\n",
       "      <td>[komisi, pemilihan, umum, kpu, menetapkan, ora...</td>\n",
       "    </tr>\n",
       "    <tr>\n",
       "      <th>1</th>\n",
       "      <td>Witan Dipuji Doll Habis-habisan Usai Cetak 2 G...</td>\n",
       "      <td>pelatih persija jakarta thomas doll memuji wi...</td>\n",
       "      <td>CNN Indonesia</td>\n",
       "      <td>olahraga</td>\n",
       "      <td>[pelatih, persija, jakarta, thomas, doll, memu...</td>\n",
       "    </tr>\n",
       "    <tr>\n",
       "      <th>2</th>\n",
       "      <td>Mengintip Kost 'Sultan' dengan Vibe Ubud, Sebu...</td>\n",
       "      <td>jakarta indonesia tempat tinggal adalah kebutu...</td>\n",
       "      <td>CNBC Indonesia</td>\n",
       "      <td>hiburan</td>\n",
       "      <td>[jakarta, indonesia, tempat, tinggal, adalah, ...</td>\n",
       "    </tr>\n",
       "    <tr>\n",
       "      <th>3</th>\n",
       "      <td>Butuh Hiburan Seru Bertabur Hadiah? Yuk ke Pek...</td>\n",
       "      <td>pt pegadaian menggelar kegiatan pekan raya peg...</td>\n",
       "      <td>detikNews</td>\n",
       "      <td>hiburan</td>\n",
       "      <td>[pt, pegadaian, menggelar, kegiatan, pekan, ra...</td>\n",
       "    </tr>\n",
       "    <tr>\n",
       "      <th>4</th>\n",
       "      <td>Jokowi Bicara Nasib IKN Usai Lengser: Ada UU-n...</td>\n",
       "      <td>presiden joko widodo jokowi berbicara tentang...</td>\n",
       "      <td>CNN Indonesia</td>\n",
       "      <td>politik</td>\n",
       "      <td>[presiden, joko, widodo, jokowi, berbicara, te...</td>\n",
       "    </tr>\n",
       "  </tbody>\n",
       "</table>\n",
       "</div>"
      ],
      "text/plain": [
       "                                               Judul  \\\n",
       "0  KPU Tetapkan 9.917 DCT Caleg DPR, Ini Daftar 1...   \n",
       "1  Witan Dipuji Doll Habis-habisan Usai Cetak 2 G...   \n",
       "2  Mengintip Kost 'Sultan' dengan Vibe Ubud, Sebu...   \n",
       "3  Butuh Hiburan Seru Bertabur Hadiah? Yuk ke Pek...   \n",
       "4  Jokowi Bicara Nasib IKN Usai Lengser: Ada UU-n...   \n",
       "\n",
       "                                                Text           Media  \\\n",
       "0  komisi pemilihan umum kpu menetapkan orang mas...       detikNews   \n",
       "1   pelatih persija jakarta thomas doll memuji wi...   CNN Indonesia   \n",
       "2  jakarta indonesia tempat tinggal adalah kebutu...  CNBC Indonesia   \n",
       "3  pt pegadaian menggelar kegiatan pekan raya peg...       detikNews   \n",
       "4   presiden joko widodo jokowi berbicara tentang...   CNN Indonesia   \n",
       "\n",
       "      Label                                             tokens  \n",
       "0   politik  [komisi, pemilihan, umum, kpu, menetapkan, ora...  \n",
       "1  olahraga  [pelatih, persija, jakarta, thomas, doll, memu...  \n",
       "2   hiburan  [jakarta, indonesia, tempat, tinggal, adalah, ...  \n",
       "3   hiburan  [pt, pegadaian, menggelar, kegiatan, pekan, ra...  \n",
       "4   politik  [presiden, joko, widodo, jokowi, berbicara, te...  "
      ]
     },
     "execution_count": 15,
     "metadata": {},
     "output_type": "execute_result"
    }
   ],
   "source": [
    "df.head(5)"
   ]
  },
  {
   "cell_type": "markdown",
   "id": "7dbff5b3",
   "metadata": {},
   "source": [
    "## Stopword Removal"
   ]
  },
  {
   "cell_type": "code",
   "execution_count": 16,
   "id": "51b9c5be",
   "metadata": {
    "execution": {
     "iopub.execute_input": "2023-11-10T22:49:11.080638Z",
     "iopub.status.busy": "2023-11-10T22:49:11.080272Z",
     "iopub.status.idle": "2023-11-10T22:49:11.184249Z",
     "shell.execute_reply": "2023-11-10T22:49:11.183011Z",
     "shell.execute_reply.started": "2023-11-10T22:49:11.080611Z"
    }
   },
   "outputs": [
    {
     "name": "stderr",
     "output_type": "stream",
     "text": [
      "[nltk_data] Downloading package stopwords to\n",
      "[nltk_data]     /Users/komangandikawirasantosa/nltk_data...\n",
      "[nltk_data]   Package stopwords is already up-to-date!\n"
     ]
    }
   ],
   "source": [
    "import nltk\n",
    "nltk.download('stopwords')\n",
    "from nltk.corpus import stopwords\n",
    "stopwords = nltk.corpus.stopwords.words(\"indonesian\")"
   ]
  },
  {
   "cell_type": "code",
   "execution_count": 17,
   "id": "45d66e66",
   "metadata": {
    "execution": {
     "iopub.execute_input": "2023-11-10T22:49:19.075234Z",
     "iopub.status.busy": "2023-11-10T22:49:19.074837Z",
     "iopub.status.idle": "2023-11-10T22:49:19.137047Z",
     "shell.execute_reply": "2023-11-10T22:49:19.135690Z",
     "shell.execute_reply.started": "2023-11-10T22:49:19.075208Z"
    }
   },
   "outputs": [
    {
     "data": {
      "text/html": [
       "<div>\n",
       "<style scoped>\n",
       "    .dataframe tbody tr th:only-of-type {\n",
       "        vertical-align: middle;\n",
       "    }\n",
       "\n",
       "    .dataframe tbody tr th {\n",
       "        vertical-align: top;\n",
       "    }\n",
       "\n",
       "    .dataframe thead th {\n",
       "        text-align: right;\n",
       "    }\n",
       "</style>\n",
       "<table border=\"1\" class=\"dataframe\">\n",
       "  <thead>\n",
       "    <tr style=\"text-align: right;\">\n",
       "      <th></th>\n",
       "      <th>Judul</th>\n",
       "      <th>Text</th>\n",
       "      <th>Media</th>\n",
       "      <th>Label</th>\n",
       "      <th>tokens</th>\n",
       "    </tr>\n",
       "  </thead>\n",
       "  <tbody>\n",
       "    <tr>\n",
       "      <th>0</th>\n",
       "      <td>KPU Tetapkan 9.917 DCT Caleg DPR, Ini Daftar 1...</td>\n",
       "      <td>komisi pemilihan umum kpu menetapkan orang mas...</td>\n",
       "      <td>detikNews</td>\n",
       "      <td>politik</td>\n",
       "      <td>[komisi, pemilihan, kpu, menetapkan, orang, ma...</td>\n",
       "    </tr>\n",
       "    <tr>\n",
       "      <th>1</th>\n",
       "      <td>Witan Dipuji Doll Habis-habisan Usai Cetak 2 G...</td>\n",
       "      <td>pelatih persija jakarta thomas doll memuji wi...</td>\n",
       "      <td>CNN Indonesia</td>\n",
       "      <td>olahraga</td>\n",
       "      <td>[pelatih, persija, jakarta, thomas, doll, memu...</td>\n",
       "    </tr>\n",
       "    <tr>\n",
       "      <th>2</th>\n",
       "      <td>Mengintip Kost 'Sultan' dengan Vibe Ubud, Sebu...</td>\n",
       "      <td>jakarta indonesia tempat tinggal adalah kebutu...</td>\n",
       "      <td>CNBC Indonesia</td>\n",
       "      <td>hiburan</td>\n",
       "      <td>[jakarta, indonesia, tinggal, kebutuhan, dasar...</td>\n",
       "    </tr>\n",
       "  </tbody>\n",
       "</table>\n",
       "</div>"
      ],
      "text/plain": [
       "                                               Judul  \\\n",
       "0  KPU Tetapkan 9.917 DCT Caleg DPR, Ini Daftar 1...   \n",
       "1  Witan Dipuji Doll Habis-habisan Usai Cetak 2 G...   \n",
       "2  Mengintip Kost 'Sultan' dengan Vibe Ubud, Sebu...   \n",
       "\n",
       "                                                Text           Media  \\\n",
       "0  komisi pemilihan umum kpu menetapkan orang mas...       detikNews   \n",
       "1   pelatih persija jakarta thomas doll memuji wi...   CNN Indonesia   \n",
       "2  jakarta indonesia tempat tinggal adalah kebutu...  CNBC Indonesia   \n",
       "\n",
       "      Label                                             tokens  \n",
       "0   politik  [komisi, pemilihan, kpu, menetapkan, orang, ma...  \n",
       "1  olahraga  [pelatih, persija, jakarta, thomas, doll, memu...  \n",
       "2   hiburan  [jakarta, indonesia, tinggal, kebutuhan, dasar...  "
      ]
     },
     "execution_count": 17,
     "metadata": {},
     "output_type": "execute_result"
    }
   ],
   "source": [
    "df['tokens'] = df['tokens'].apply(lambda x: [item for item in x if item not in stopwords])\n",
    "df.head(3)"
   ]
  },
  {
   "cell_type": "markdown",
   "id": "7460d67f",
   "metadata": {},
   "source": [
    "## Text Representation"
   ]
  },
  {
   "cell_type": "markdown",
   "id": "66d07295",
   "metadata": {},
   "source": [
    "### Word2Vec"
   ]
  },
  {
   "cell_type": "code",
   "execution_count": 19,
   "id": "7d6d2147",
   "metadata": {},
   "outputs": [],
   "source": [
    "from gensim.models import Word2Vec"
   ]
  },
  {
   "cell_type": "code",
   "execution_count": 22,
   "id": "8bbd38d3",
   "metadata": {},
   "outputs": [],
   "source": [
    "model = Word2Vec(df['tokens'],vector_size=50,min_count = 3, window = 5,workers=4,epochs=1000,sg=1)"
   ]
  },
  {
   "cell_type": "code",
   "execution_count": 26,
   "id": "983174a3",
   "metadata": {},
   "outputs": [],
   "source": [
    "def get_vector(tokens, model):\n",
    "    vector = np.zeros(model.vector_size)\n",
    "    count = 0\n",
    "    for word in tokens:\n",
    "        if word in model.wv:\n",
    "            vector += model.wv[word]\n",
    "            count += 1\n",
    "    if count != 0:\n",
    "        vector /= count\n",
    "    return vector\n",
    "X_word = df['tokens'].apply(lambda x: get_vector(x, model))"
   ]
  },
  {
   "cell_type": "code",
   "execution_count": 52,
   "id": "31521c24",
   "metadata": {
    "execution": {
     "iopub.execute_input": "2023-11-10T21:28:37.655652Z",
     "iopub.status.busy": "2023-11-10T21:28:37.655204Z",
     "iopub.status.idle": "2023-11-10T21:28:37.738647Z",
     "shell.execute_reply": "2023-11-10T21:28:37.737626Z",
     "shell.execute_reply.started": "2023-11-10T21:28:37.655617Z"
    }
   },
   "outputs": [],
   "source": [
    "X_word = np.array(X_word.tolist())"
   ]
  },
  {
   "cell_type": "markdown",
   "id": "f5d54fca",
   "metadata": {},
   "source": [
    "### TF-IDF"
   ]
  },
  {
   "cell_type": "code",
   "execution_count": 28,
   "id": "a3fd96bb",
   "metadata": {
    "execution": {
     "iopub.execute_input": "2023-11-10T21:29:20.822398Z",
     "iopub.status.busy": "2023-11-10T21:29:20.822042Z",
     "iopub.status.idle": "2023-11-10T21:29:20.832720Z",
     "shell.execute_reply": "2023-11-10T21:29:20.831410Z",
     "shell.execute_reply.started": "2023-11-10T21:29:20.822370Z"
    }
   },
   "outputs": [
    {
     "data": {
      "text/plain": [
       "Judul     object\n",
       "Text      object\n",
       "Media     object\n",
       "Label     object\n",
       "tokens    string\n",
       "dtype: object"
      ]
     },
     "execution_count": 28,
     "metadata": {},
     "output_type": "execute_result"
    }
   ],
   "source": [
    "#Mengubah tokens menjadi string agar bisa melalui TF-IDF\n",
    "df['tokens'] = df['tokens'].astype('str') \n",
    "df['tokens'] = df['tokens'].astype(pd.StringDtype())\n",
    "df.dtypes"
   ]
  },
  {
   "cell_type": "code",
   "execution_count": 29,
   "id": "1afcc6e5",
   "metadata": {},
   "outputs": [],
   "source": [
    "#Target dan Fitur\n",
    "X = df['tokens']\n",
    "y = df['Label']"
   ]
  },
  {
   "cell_type": "code",
   "execution_count": 31,
   "id": "9990f80a",
   "metadata": {
    "execution": {
     "iopub.execute_input": "2023-11-10T21:29:32.055273Z",
     "iopub.status.busy": "2023-11-10T21:29:32.054913Z",
     "iopub.status.idle": "2023-11-10T21:29:32.067570Z",
     "shell.execute_reply": "2023-11-10T21:29:32.066837Z",
     "shell.execute_reply.started": "2023-11-10T21:29:32.055245Z"
    }
   },
   "outputs": [],
   "source": [
    "from sklearn.feature_extraction.text import TfidfVectorizer\n",
    "\n",
    "vectorizer = TfidfVectorizer(max_features=50, min_df=3)\n",
    "\n",
    "X_tfidf = vectorizer.fit_transform(X)"
   ]
  },
  {
   "cell_type": "markdown",
   "id": "875144fc",
   "metadata": {},
   "source": [
    "## Splitting"
   ]
  },
  {
   "cell_type": "code",
   "execution_count": 32,
   "id": "439093a2",
   "metadata": {
    "execution": {
     "iopub.execute_input": "2023-11-10T22:15:10.781957Z",
     "iopub.status.busy": "2023-11-10T22:15:10.781555Z",
     "iopub.status.idle": "2023-11-10T22:15:10.787507Z",
     "shell.execute_reply": "2023-11-10T22:15:10.786373Z",
     "shell.execute_reply.started": "2023-11-10T22:15:10.781926Z"
    }
   },
   "outputs": [],
   "source": [
    "from sklearn.model_selection import train_test_split"
   ]
  },
  {
   "cell_type": "code",
   "execution_count": 53,
   "id": "ead21c92",
   "metadata": {},
   "outputs": [],
   "source": [
    "# Word2Vec\n",
    "X_train1, X_test1, y_train1, y_test1 = train_test_split(X_word,y, test_size=0.2,stratify=y)"
   ]
  },
  {
   "cell_type": "code",
   "execution_count": 54,
   "id": "7082e06d",
   "metadata": {},
   "outputs": [
    {
     "data": {
      "text/plain": [
       "array([[-1.70468227e-01, -1.48133034e-01, -7.81217312e-02,\n",
       "        -4.32226091e-01,  4.54113291e-01,  6.70529792e-02,\n",
       "         2.97497454e-02,  1.24994385e+00, -5.01004732e-01,\n",
       "        -1.98784355e-01, -4.43921950e-01, -2.73116319e-01,\n",
       "         3.41895233e-01,  2.97452887e-01, -3.87370320e-01,\n",
       "         2.74021519e-01,  6.27168514e-01,  4.87951104e-02,\n",
       "         2.83497958e-01,  1.62451442e-01, -2.05734929e-01,\n",
       "         5.20286509e-01, -1.00943553e-01, -9.12726160e-01,\n",
       "         3.50930814e-01, -6.99350365e-01,  1.10678031e-01,\n",
       "        -2.67035336e-01, -4.15788030e-01, -1.07267439e-01,\n",
       "        -1.43959763e-01,  4.94186769e-01, -7.50873193e-01,\n",
       "        -2.27199742e-01, -7.61192574e-01,  1.34352140e+00,\n",
       "         2.83476631e-01,  5.90738259e-01,  4.10395907e-01,\n",
       "        -3.95137144e-01,  8.79747986e-01, -6.65343228e-02,\n",
       "         5.77927261e-01, -7.12788992e-01,  8.93329696e-01,\n",
       "        -3.68458770e-01, -5.21589464e-02, -4.88344489e-01,\n",
       "         4.15572118e-01, -3.30083132e-04],\n",
       "       [ 1.52940924e-01, -2.66843700e-01,  2.40211944e-01,\n",
       "        -1.02544124e+00, -2.66195159e-01, -4.89396910e-01,\n",
       "         2.12834797e-01,  6.12250591e-01, -7.23436436e-01,\n",
       "        -5.82962014e-01, -1.59750501e-01, -8.30756121e-01,\n",
       "         3.88765806e-01,  1.25431925e-01, -2.58023298e-01,\n",
       "         5.09931790e-01,  1.00587805e-01,  4.92181555e-01,\n",
       "        -4.70104911e-01, -2.02342724e-02, -4.24039678e-01,\n",
       "         1.82802307e-01,  7.91672667e-01,  8.66022762e-02,\n",
       "        -2.64039925e-01,  5.24335028e-02,  1.76595778e-02,\n",
       "        -1.51243055e-01, -8.45336451e-01, -1.75104150e-02,\n",
       "         4.92357289e-01, -3.66887610e-02, -1.36257647e-01,\n",
       "         1.35175599e-01, -4.12177777e-01,  5.53813071e-01,\n",
       "         2.04575968e-01,  5.25784625e-02,  1.08687473e-01,\n",
       "        -4.39840798e-01,  3.73602973e-01, -2.28988092e-01,\n",
       "        -2.44583144e-01,  4.98578644e-02,  7.83125865e-01,\n",
       "         2.48648329e-01,  1.43534662e-01, -1.67024448e-01,\n",
       "         8.12135072e-02,  8.13903952e-03],\n",
       "       [-2.92223998e-01, -1.47567258e-02, -1.34722619e-01,\n",
       "        -1.00661252e-01,  1.25048187e-01, -6.61653220e-01,\n",
       "         5.41690398e-01,  5.92084479e-01, -6.52369162e-01,\n",
       "         1.93969193e-01, -1.71121642e-01, -8.22985331e-01,\n",
       "        -3.58173395e-01, -1.23184924e-01, -9.06008727e-01,\n",
       "        -3.73643700e-02,  1.94036425e-01, -1.06306226e-01,\n",
       "        -5.42230235e-01,  2.21207061e-01, -1.07936482e+00,\n",
       "         5.93593753e-01,  5.40037659e-01,  3.04336127e-01,\n",
       "        -2.57635261e-01, -3.25382831e-01, -3.21341442e-02,\n",
       "        -4.01905671e-01,  2.26296211e-01, -2.17125145e-01,\n",
       "         3.13565173e-01, -1.73579451e-01, -4.54268750e-01,\n",
       "         6.44631826e-02, -7.67087150e-01,  7.07026629e-01,\n",
       "         7.78015649e-01,  1.59802942e-01, -1.91642561e-02,\n",
       "        -8.76849129e-01,  8.37351930e-01, -2.78369955e-01,\n",
       "        -5.18589356e-01,  3.14377937e-01,  4.98015578e-01,\n",
       "         2.16063095e-01,  1.89873284e-01, -2.73009392e-01,\n",
       "         7.06055753e-02,  4.94066728e-01],\n",
       "       [ 2.83121980e-01,  2.49998503e-02, -1.71341205e-01,\n",
       "        -3.80632334e-01, -5.71123794e-02, -4.66624356e-02,\n",
       "         3.92551328e-01,  1.03201246e-01,  5.72095075e-02,\n",
       "        -1.58823056e-01, -4.01002653e-02,  2.50620191e-01,\n",
       "        -6.98925781e-02, -5.44914593e-01, -7.25740204e-02,\n",
       "         8.23506180e-02, -4.64854595e-01, -4.34149792e-01,\n",
       "        -5.39122461e-01, -2.79624959e-01, -4.91641429e-01,\n",
       "         7.07125119e-01,  6.04969617e-01, -2.69682841e-01,\n",
       "         5.91230098e-01, -2.33934940e-01,  2.06249103e-01,\n",
       "        -7.49166472e-01, -4.82454109e-01,  2.83625913e-01,\n",
       "        -1.25213753e-01,  3.89294946e-01, -3.32200129e-01,\n",
       "         2.00722328e-01, -7.42138368e-01,  9.75834391e-01,\n",
       "         7.78149977e-01, -1.89580300e-01, -6.18161590e-01,\n",
       "        -3.44070682e-01,  6.94520566e-01,  1.55374246e-01,\n",
       "         3.87192946e-01, -3.27130684e-01,  1.72845946e+00,\n",
       "        -2.38481314e-01,  2.55001503e-01, -8.80407358e-01,\n",
       "         1.47159976e-01, -5.57434566e-02],\n",
       "       [-2.22173352e-01,  1.45807438e-01,  1.56276501e-01,\n",
       "        -3.06850693e-01, -2.36170742e-01, -5.20942919e-01,\n",
       "         4.53224460e-01,  5.65303702e-01, -4.98193727e-01,\n",
       "        -3.00199411e-01, -3.34409527e-01, -9.07435609e-01,\n",
       "        -1.67436911e-01, -6.02292375e-01, -8.19833440e-01,\n",
       "        -5.80187714e-02,  1.02632762e-01, -1.14598598e-01,\n",
       "        -3.54320518e-01,  5.90879253e-02, -1.03639096e+00,\n",
       "         5.14606332e-01,  6.22337630e-01,  4.96399553e-01,\n",
       "        -8.78168734e-02, -5.04522913e-01,  2.39557724e-02,\n",
       "        -2.84073631e-01,  2.09359020e-01, -3.47062964e-01,\n",
       "         2.41121019e-01, -4.10224598e-01, -1.60161134e-01,\n",
       "        -9.42068937e-02, -1.01273566e+00,  6.19626677e-01,\n",
       "         1.02035555e+00,  4.59009874e-01,  2.31823216e-01,\n",
       "        -7.14724851e-01,  1.08878401e+00, -4.42472026e-01,\n",
       "        -4.78372816e-01, -4.43199014e-02,  5.10605503e-01,\n",
       "        -8.72579415e-02,  6.03631618e-02,  2.51955647e-01,\n",
       "         3.62081765e-01,  1.42431690e-01],\n",
       "       [-2.68214451e-01,  1.49792963e-01, -2.72558015e-02,\n",
       "        -4.77255006e-01,  2.81003096e-01, -1.00035489e+00,\n",
       "         2.87456349e-01,  3.40240666e-01, -9.22515085e-01,\n",
       "         2.02406576e-02,  2.02359371e-01, -1.04712669e+00,\n",
       "         5.14460956e-01, -2.60842136e-01, -3.29786530e-01,\n",
       "         3.52775571e-01, -1.67746565e-01, -6.77488311e-01,\n",
       "        -5.02983684e-01, -7.96392233e-01, -4.95832075e-01,\n",
       "         4.54497135e-01,  4.79339574e-01, -7.22039172e-02,\n",
       "         2.36990071e-02,  7.52781697e-02,  1.24314519e-01,\n",
       "        -2.17069664e-01, -1.56504331e-01, -2.54635471e-01,\n",
       "         5.17152654e-01,  1.90162406e-01, -5.45777611e-01,\n",
       "         1.80004157e-01, -5.60276834e-01,  2.35155893e-01,\n",
       "         4.89304109e-01,  1.74178065e-01,  2.30487699e-01,\n",
       "        -5.07103074e-01,  2.45571456e-01, -1.14060046e-01,\n",
       "        -6.15725993e-02,  1.20860171e-01,  8.43982733e-01,\n",
       "        -3.46092018e-01, -4.30453088e-02,  3.89962018e-02,\n",
       "         1.68475482e-01, -4.22661619e-01],\n",
       "       [ 3.61017957e-01, -6.74543534e-02, -3.71476197e-01,\n",
       "        -3.67538225e-01,  1.21636418e+00, -5.15963767e-01,\n",
       "         1.72422659e-02,  4.15405545e-01,  3.03428755e-01,\n",
       "         4.21077333e-01,  1.25447261e-01, -3.13250978e-01,\n",
       "         6.78390142e-01, -3.92419806e-01, -4.02258535e-01,\n",
       "         7.61711821e-02,  2.80712278e-01,  7.55067728e-02,\n",
       "         9.99802537e-02,  1.14729743e-01, -7.51065273e-01,\n",
       "         5.74689549e-01,  8.18941440e-01, -5.48842205e-01,\n",
       "         2.67741557e-01, -2.71958114e-02,  2.71846559e-01,\n",
       "        -4.96718772e-01, -1.62674183e-01, -9.08981096e-01,\n",
       "         1.07036515e-01,  1.17550759e+00, -2.65785475e-01,\n",
       "         7.48702833e-01, -4.75138256e-01,  3.39937258e-01,\n",
       "         5.93210469e-01,  2.17031877e-01, -4.20389493e-01,\n",
       "         1.06827605e-01,  5.58261871e-01,  1.10183237e-02,\n",
       "         4.61904122e-01,  1.81418869e-01,  1.27037557e+00,\n",
       "        -2.26628669e-01, -5.34339081e-02,  8.31827987e-03,\n",
       "         5.78122858e-01, -2.28777393e-01],\n",
       "       [ 1.17044773e-01,  9.23947538e-03, -5.00314296e-01,\n",
       "         7.43841752e-01,  6.34283921e-01, -6.40999565e-01,\n",
       "         9.12411537e-01,  3.83780121e-01, -1.63351898e-01,\n",
       "        -8.86952191e-01, -5.51340026e-01, -3.97146242e-01,\n",
       "        -4.08297702e-01,  9.66408173e-03, -9.72589955e-01,\n",
       "         5.68044908e-01,  1.84268630e-01, -1.61703803e-01,\n",
       "        -3.66537231e-01, -1.61406744e-01, -6.40697380e-01,\n",
       "         1.16444846e-01,  2.45114514e-01, -4.53487023e-01,\n",
       "         5.53340099e-01, -5.97574370e-02,  7.42724731e-01,\n",
       "        -4.94026978e-01, -7.60569178e-02, -5.03943338e-02,\n",
       "         4.34785711e-01, -4.95577128e-02, -3.96966585e-01,\n",
       "         6.77379971e-01, -1.03351882e-01,  7.22592169e-01,\n",
       "         9.74154049e-03,  7.06893513e-01,  8.70521420e-02,\n",
       "        -4.78839817e-01,  5.15548802e-01, -4.07388282e-02,\n",
       "        -2.60651617e-02,  1.87944288e-01,  1.07988379e+00,\n",
       "         4.39430809e-01,  1.71555056e-01, -8.50983836e-02,\n",
       "         8.08892870e-01,  2.15347267e-01],\n",
       "       [-2.20638962e-01, -5.13589930e-01, -2.08204652e-01,\n",
       "         6.75669508e-01, -1.90745929e-02, -4.93529155e-02,\n",
       "         5.01929738e-01,  1.06192438e+00, -8.49640835e-01,\n",
       "         1.47154851e-02, -1.00859834e+00,  1.98002505e-01,\n",
       "         2.20513222e-01, -1.02288600e-01, -2.92693052e-01,\n",
       "         2.99153467e-01, -3.19471093e-01,  1.72855144e-01,\n",
       "        -3.44970503e-01, -3.51680480e-01, -3.83252472e-01,\n",
       "         6.44553608e-01,  9.67198187e-01, -3.01965505e-01,\n",
       "         4.89392117e-01,  3.05169929e-01,  2.27419088e-01,\n",
       "        -2.37839381e-01, -2.89090619e-01, -4.58141833e-01,\n",
       "        -2.08600220e-01,  1.94066699e-01, -3.79409587e-01,\n",
       "        -1.43608412e-01, -4.42999808e-01,  8.54028393e-01,\n",
       "         1.44324106e-01,  5.06761064e-01,  2.68656838e-01,\n",
       "        -5.67889002e-01,  5.99577204e-01,  3.55281967e-01,\n",
       "        -2.64999996e-01,  2.30081213e-01,  1.00301058e+00,\n",
       "         2.65179029e-01,  4.64789547e-02, -5.66718884e-01,\n",
       "         2.74547628e-01, -1.04301714e+00],\n",
       "       [ 5.52403493e-01,  2.68016604e-01, -2.27364144e-01,\n",
       "         4.44252841e-01,  1.05294729e+00, -1.39634682e-01,\n",
       "         3.32617964e-01,  1.51217786e-01, -6.27640628e-01,\n",
       "         6.61663466e-02, -2.76651582e-02, -7.68849036e-02,\n",
       "         2.15577936e-01, -1.86371065e-01, -4.95554443e-01,\n",
       "         5.43830462e-01, -8.85170222e-02,  7.04472717e-01,\n",
       "        -1.05649177e+00, -2.51354933e-01, -6.65233958e-01,\n",
       "         1.27080390e-01,  5.08261870e-01, -5.05207785e-01,\n",
       "         8.18521131e-01, -2.40729212e-01, -4.16298013e-01,\n",
       "        -7.38364884e-01, -6.19330715e-02, -2.67137314e-01,\n",
       "         2.09111998e-01,  2.68369906e-01, -1.09829860e-01,\n",
       "        -4.51760357e-02, -3.35684145e-01,  7.40588907e-01,\n",
       "         7.32416251e-01,  9.99747399e-01,  9.18588995e-01,\n",
       "        -2.51423376e-01,  4.47041500e-01, -1.13365072e-03,\n",
       "         9.11510941e-02,  5.88529038e-01,  1.45118788e+00,\n",
       "         2.37100725e-01, -1.87768468e-01, -2.39259404e-01,\n",
       "         4.17996896e-01, -1.88797314e-01],\n",
       "       [ 2.51569767e-01, -6.34247748e-02,  1.22065058e-01,\n",
       "        -6.97272629e-01, -2.89783576e-01, -6.42895207e-01,\n",
       "         5.83226046e-01,  9.01892166e-01, -1.12322741e+00,\n",
       "        -3.99274161e-01, -3.24608921e-01, -5.03924317e-01,\n",
       "        -6.56023688e-03, -1.68617396e-01, -8.42668916e-02,\n",
       "         2.25271988e-01,  3.65980843e-01,  5.73274435e-01,\n",
       "        -4.65793526e-01,  3.51395030e-02, -2.30510822e-01,\n",
       "         1.79470093e-02,  5.40505751e-01,  1.72266113e-02,\n",
       "         3.07095035e-01,  1.00881150e-01,  3.84905930e-01,\n",
       "         1.08346942e-01, -1.03651210e+00,  4.04521737e-01,\n",
       "        -6.64085012e-02,  2.47063511e-01, -3.33413723e-01,\n",
       "         3.65331803e-01, -3.38534069e-01,  2.71193523e-01,\n",
       "         2.57097227e-01,  4.43653974e-03,  3.92734570e-01,\n",
       "        -4.00299726e-01,  4.83071830e-01,  4.98551206e-02,\n",
       "        -2.95514971e-01,  4.30007687e-01,  7.54005811e-01,\n",
       "         4.69142430e-01,  1.99307398e-01, -1.11439477e-01,\n",
       "         3.21465526e-01,  4.32256254e-01],\n",
       "       [ 5.42622364e-01, -2.83596492e-01,  4.13276250e-01,\n",
       "        -2.00758383e-01,  6.46895878e-02,  1.49177679e-01,\n",
       "         1.95667268e-01,  4.20841133e-01, -2.65095337e-01,\n",
       "         1.23476924e-01,  2.00909091e-01, -4.45233959e-01,\n",
       "         2.59790990e-02, -8.41293684e-02, -7.82877027e-02,\n",
       "         4.43831800e-01,  3.58168582e-01, -7.19936360e-01,\n",
       "        -2.11424257e-01, -1.86383082e-01, -1.24298522e-01,\n",
       "         7.40949404e-01,  5.95418870e-01, -6.23178031e-01,\n",
       "         4.42658868e-02, -1.43662612e-01, -3.38306632e-01,\n",
       "        -6.53692679e-01, -1.16502969e+00, -1.28228901e-01,\n",
       "         1.10656910e+00,  6.36569704e-01, -5.56805162e-02,\n",
       "         6.23445511e-01, -8.63950029e-01,  8.37239806e-01,\n",
       "         1.72957553e-01,  3.67659587e-01, -4.24580072e-01,\n",
       "        -8.92277572e-01,  6.59281860e-01,  2.19297408e-01,\n",
       "         6.92950403e-01,  8.49523717e-01,  1.00456045e+00,\n",
       "         4.47791314e-01, -4.85969681e-02, -4.68414290e-01,\n",
       "         3.71854323e-01, -4.86185110e-01],\n",
       "       [-1.27491983e-01,  1.98751246e-01, -4.81572105e-02,\n",
       "         7.95095535e-02, -7.34596236e-02, -4.77871203e-01,\n",
       "         4.45526287e-01,  1.32187639e+00, -7.44038075e-01,\n",
       "         2.09315532e-01,  9.97097552e-02, -1.99542657e-01,\n",
       "         1.34979690e-01, -5.09791755e-01, -2.97813776e-01,\n",
       "         3.31480801e-01, -1.37751589e-01,  2.16175189e-01,\n",
       "        -1.44393517e-01, -4.02552506e-02, -5.62076246e-01,\n",
       "         1.62940239e-01,  5.29179899e-01, -2.10169549e-01,\n",
       "         4.84426921e-01,  1.00556109e-01, -3.64564531e-03,\n",
       "        -2.56591762e-01,  2.12775623e-01, -5.12544151e-01,\n",
       "        -2.29874330e-01,  9.62673888e-01, -1.04606190e+00,\n",
       "        -1.44435279e-01, -1.28522025e-01,  8.35817442e-01,\n",
       "         1.42933790e-01,  3.34349964e-01, -4.08686369e-01,\n",
       "        -1.04191766e+00,  9.02466636e-01,  1.12709984e-01,\n",
       "        -9.58957055e-02, -6.30812991e-02,  7.85489116e-01,\n",
       "         4.87191588e-01, -3.70777139e-02, -5.55387041e-01,\n",
       "         1.80319932e-01, -4.32108702e-01],\n",
       "       [-3.66661402e-01, -4.70622113e-01, -1.86700086e-01,\n",
       "         6.88437759e-02, -1.99237265e-02,  3.95452304e-01,\n",
       "         9.23781908e-01,  8.80186757e-01, -1.30914680e+00,\n",
       "        -1.26747976e-01, -7.63554192e-01, -4.34413991e-01,\n",
       "         2.25324884e-02, -1.63956735e-01, -3.95402171e-01,\n",
       "         4.19704025e-01,  7.42913501e-01, -5.52685732e-01,\n",
       "         4.72281023e-02,  1.34679251e-01,  1.35388270e-01,\n",
       "        -1.75715272e-01,  2.98859365e-01, -4.50774283e-01,\n",
       "        -2.25523781e-02, -9.67204607e-01, -9.02544826e-02,\n",
       "        -4.43048828e-01, -2.34554874e-01,  4.15620858e-01,\n",
       "         1.30352724e-01,  5.26767632e-01, -4.07563963e-01,\n",
       "         5.76633830e-01, -5.68947186e-01,  1.35045405e+00,\n",
       "         3.20858438e-01,  2.68803381e-01,  3.01238719e-01,\n",
       "        -2.58915961e-01,  1.40813338e+00, -4.75154253e-01,\n",
       "         2.90899841e-01, -9.36947357e-04,  8.66710611e-01,\n",
       "        -4.71893425e-01, -2.21768915e-01, -6.24121257e-01,\n",
       "         4.35522489e-01, -3.20113714e-01],\n",
       "       [-5.89015913e-01,  2.99384841e-02, -5.97042143e-01,\n",
       "        -4.78047018e-01, -2.11812515e-01, -5.81617912e-01,\n",
       "         2.02912463e-01,  5.98246542e-01, -4.36743947e-01,\n",
       "        -1.83438255e-01,  1.57099689e-01, -4.22146784e-01,\n",
       "         6.89496412e-01, -1.06686921e-01, -5.84623721e-01,\n",
       "         5.60659771e-01,  2.53319295e-03, -3.93163923e-01,\n",
       "        -3.28700221e-01, -4.06654374e-01, -3.48530947e-01,\n",
       "         4.85775571e-01, -8.85451754e-02,  1.48575023e-01,\n",
       "         3.66320649e-01,  3.87626551e-02, -2.58241443e-01,\n",
       "        -6.37909173e-01, -8.09129339e-01, -3.60342668e-02,\n",
       "         3.70006852e-01, -1.69901405e-01, -1.11584623e-01,\n",
       "         7.38573618e-01, -5.81398532e-01,  3.68558924e-01,\n",
       "         9.22953572e-01,  2.01979118e-01,  2.29796139e-01,\n",
       "        -1.25738293e+00, -1.88408435e-02, -5.31652147e-01,\n",
       "        -2.58776337e-02,  1.02372663e-01,  1.02572884e+00,\n",
       "         2.78668917e-02,  1.32819023e-01,  1.95579940e-01,\n",
       "         9.82997258e-02, -3.34112218e-01],\n",
       "       [-2.81618991e-01,  9.91390309e-02,  1.02239127e-01,\n",
       "        -1.85473452e-01, -2.17079213e-02, -7.36844837e-02,\n",
       "         1.86380494e-01,  1.02250435e+00, -1.21779903e+00,\n",
       "         5.56411147e-02, -4.96809794e-01, -3.97156157e-01,\n",
       "         5.02932805e-01,  3.65435085e-03, -4.22157613e-01,\n",
       "         6.94985752e-01,  2.01789465e-01, -1.20318055e-01,\n",
       "         3.24040551e-01,  6.41847249e-02, -6.24528513e-01,\n",
       "         6.23516864e-01, -8.94303347e-03, -1.89350505e-01,\n",
       "         2.40898586e-01, -7.99275173e-01,  5.55951937e-01,\n",
       "        -5.26247350e-01, -2.24859746e-01,  1.22847102e-01,\n",
       "        -1.01767421e-01, -8.42485925e-03, -4.12329644e-01,\n",
       "         3.72874808e-01, -6.66127185e-01,  1.15487996e+00,\n",
       "        -3.19695582e-01,  5.44523998e-01,  7.33626410e-01,\n",
       "        -7.86460945e-01,  1.05519393e-01,  6.24921629e-01,\n",
       "         3.66422501e-01, -4.59844171e-01,  7.05288016e-01,\n",
       "        -3.54088449e-01, -2.48550022e-01, -3.02421959e-01,\n",
       "         2.76862824e-01, -1.37614348e-01]])"
      ]
     },
     "execution_count": 54,
     "metadata": {},
     "output_type": "execute_result"
    }
   ],
   "source": [
    "X_train1"
   ]
  },
  {
   "cell_type": "code",
   "execution_count": 55,
   "id": "992ffc44",
   "metadata": {
    "execution": {
     "iopub.execute_input": "2023-11-10T22:19:22.481385Z",
     "iopub.status.busy": "2023-11-10T22:19:22.480809Z",
     "iopub.status.idle": "2023-11-10T22:19:22.494177Z",
     "shell.execute_reply": "2023-11-10T22:19:22.492449Z",
     "shell.execute_reply.started": "2023-11-10T22:19:22.481347Z"
    }
   },
   "outputs": [],
   "source": [
    "# TF-IDF\n",
    "X_train2, X_test2, y_train2, y_test2 = train_test_split(X_tfidf,y, test_size=0.2,stratify=y)"
   ]
  },
  {
   "cell_type": "code",
   "execution_count": 56,
   "id": "5a9d46dd",
   "metadata": {},
   "outputs": [
    {
     "name": "stdout",
     "output_type": "stream",
     "text": [
      "  (0, 34)\t0.4778301527218946\n",
      "  (0, 41)\t0.22634180397633874\n",
      "  (0, 13)\t0.09556603054437893\n",
      "  (0, 24)\t0.08754379060629121\n",
      "  (0, 46)\t0.3822641221775157\n",
      "  (0, 28)\t0.26263137181887364\n",
      "  (0, 36)\t0.3239565732546939\n",
      "  (0, 23)\t0.21194003169219333\n",
      "  (0, 17)\t0.08098914331367348\n",
      "  (0, 38)\t0.0626244372926434\n",
      "  (0, 47)\t0.1508945359842258\n",
      "  (0, 10)\t0.0754472679921129\n",
      "  (0, 22)\t0.07064667723073112\n",
      "  (0, 14)\t0.1010558293569302\n",
      "  (0, 4)\t0.05319217241946136\n",
      "  (0, 48)\t0.05319217241946136\n",
      "  (0, 5)\t0.05319217241946136\n",
      "  (0, 43)\t0.05319217241946136\n",
      "  (0, 39)\t0.05319217241946136\n",
      "  (0, 0)\t0.05319217241946136\n",
      "  (0, 37)\t0.40494571656836736\n",
      "  (0, 7)\t0.08098914331367348\n",
      "  (0, 2)\t0.0754472679921129\n",
      "  (0, 20)\t0.09556603054437893\n",
      "  (0, 32)\t0.2866980916331368\n",
      "  :\t:\n",
      "  (14, 28)\t0.3385386121486564\n",
      "  (14, 36)\t0.4697869258339374\n",
      "  (14, 17)\t0.15659564194464579\n",
      "  (14, 12)\t0.15659564194464579\n",
      "  (14, 4)\t0.10284912329785725\n",
      "  (14, 48)\t0.10284912329785725\n",
      "  (14, 5)\t0.10284912329785725\n",
      "  (14, 43)\t0.10284912329785725\n",
      "  (14, 39)\t0.10284912329785725\n",
      "  (14, 0)\t0.10284912329785725\n",
      "  (14, 15)\t0.09769767787953211\n",
      "  (14, 37)\t0.15659564194464579\n",
      "  (14, 7)\t0.31319128388929157\n",
      "  (14, 2)\t0.1458802116036207\n",
      "  (15, 47)\t0.3195093756045692\n",
      "  (15, 10)\t0.3195093756045692\n",
      "  (15, 31)\t0.40470972058834104\n",
      "  (15, 33)\t0.40470972058834104\n",
      "  (15, 1)\t0.40470972058834104\n",
      "  (15, 4)\t0.22526193789507853\n",
      "  (15, 48)\t0.22526193789507853\n",
      "  (15, 5)\t0.22526193789507853\n",
      "  (15, 43)\t0.22526193789507853\n",
      "  (15, 39)\t0.22526193789507853\n",
      "  (15, 0)\t0.22526193789507853\n"
     ]
    }
   ],
   "source": [
    "print(X_train2)"
   ]
  },
  {
   "cell_type": "markdown",
   "id": "4ab11706",
   "metadata": {},
   "source": [
    "## Model Random Forest"
   ]
  },
  {
   "cell_type": "code",
   "execution_count": 59,
   "id": "14fc6dcb",
   "metadata": {},
   "outputs": [],
   "source": [
    "from sklearn.ensemble import RandomForestClassifier\n",
    "from sklearn.metrics import accuracy_score"
   ]
  },
  {
   "cell_type": "code",
   "execution_count": 60,
   "id": "6d37551f",
   "metadata": {},
   "outputs": [
    {
     "data": {
      "text/plain": [
       "0.75"
      ]
     },
     "execution_count": 60,
     "metadata": {},
     "output_type": "execute_result"
    }
   ],
   "source": [
    "#Word2Vec\n",
    "random_forest_classifier = RandomForestClassifier()\n",
    "random_forest_classifier.fit(X_train1,y_train1)\n",
    "random_forest_classifier_prediction =  random_forest_classifier.predict(X_test1)\n",
    "accuracy_score(random_forest_classifier_prediction,y_test1)"
   ]
  },
  {
   "cell_type": "code",
   "execution_count": 62,
   "id": "7e6ae098",
   "metadata": {},
   "outputs": [
    {
     "data": {
      "text/plain": [
       "0.0"
      ]
     },
     "execution_count": 62,
     "metadata": {},
     "output_type": "execute_result"
    }
   ],
   "source": [
    "#TF-IDF\n",
    "random_forest_classifier2 = RandomForestClassifier()\n",
    "random_forest_classifier2.fit(X_train2,y_train2)\n",
    "random_forest_classifier_prediction2 =  random_forest_classifier2.predict(X_test2)\n",
    "accuracy_score(random_forest_classifier_prediction,y_test2)"
   ]
  },
  {
   "cell_type": "markdown",
   "id": "a007c9e4",
   "metadata": {},
   "source": [
    "## Model SVM"
   ]
  },
  {
   "cell_type": "code",
   "execution_count": 63,
   "id": "4f14615b",
   "metadata": {},
   "outputs": [],
   "source": [
    "from sklearn.svm import SVC"
   ]
  },
  {
   "cell_type": "code",
   "execution_count": 65,
   "id": "5136197f",
   "metadata": {},
   "outputs": [
    {
     "name": "stdout",
     "output_type": "stream",
     "text": [
      "Accuracy: 0.75\n"
     ]
    }
   ],
   "source": [
    "#Word2Vec\n",
    "svm_model = SVC()\n",
    "svm_model.fit(X_train1, y_train1)\n",
    "y_pred = svm_model.predict(X_test1)\n",
    "accuracy = accuracy_score(y_test1, y_pred)\n",
    "print(f\"Accuracy: {accuracy}\")"
   ]
  },
  {
   "cell_type": "code",
   "execution_count": 66,
   "id": "bde3edfe",
   "metadata": {},
   "outputs": [
    {
     "name": "stdout",
     "output_type": "stream",
     "text": [
      "Accuracy: 0.75\n"
     ]
    }
   ],
   "source": [
    "#TF-IDF\n",
    "svm_model = SVC()\n",
    "svm_model.fit(X_train2, y_train2)\n",
    "y_pred = svm_model.predict(X_test2)\n",
    "accuracy = accuracy_score(y_test2, y_pred)\n",
    "print(f\"Accuracy: {accuracy}\")"
   ]
  }
 ],
 "metadata": {
  "kernelspec": {
   "display_name": "Python 3 (ipykernel)",
   "language": "python",
   "name": "python3"
  },
  "language_info": {
   "codemirror_mode": {
    "name": "ipython",
    "version": 3
   },
   "file_extension": ".py",
   "mimetype": "text/x-python",
   "name": "python",
   "nbconvert_exporter": "python",
   "pygments_lexer": "ipython3",
   "version": "3.9.12"
  }
 },
 "nbformat": 4,
 "nbformat_minor": 5
}
